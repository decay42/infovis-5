{
 "cells": [
  {
   "cell_type": "markdown",
   "metadata": {},
   "source": [
    "**Aufgabe 1:** Parallel Sets\n",
    "    \n",
    "- vergleichbar mit Parallelen Koordinaten\n",
    "- jede Linie repräsentiert eine Dimension/Kategorie\n",
    "- Breite der Linie entspricht der Anzahl an Daten der jeweiligen Dimension/Kategorie\n",
    "- \"Pfad\" nach unten entspricht der Aufteilung in weitere Kategorien\n",
    "\n",
    "am Beispiel der Titanic:\n",
    "        \n",
    "- erst Überlebende/Verstorbene\n",
    "- diese jeweils in männlich/weiblich gesplittet\n",
    "- dann wiederum jeweils männlich und weiblich in die Altergruppen Kind und Erwachsener geteilt\n",
    "- usw"
   ]
  },
  {
   "cell_type": "markdown",
   "metadata": {},
   "source": [
    "**Aufgabe 2**\n",
    "\n",
    "1. Wurzelknoten ist **A**\n",
    "\n",
    "2. Blattknoten sind: **G, H, I, L, M, K**\n",
    "\n",
    "3. Tiefe des Baums: $depth(L) = depth(M) = 4$\n",
    "\n",
    "4. preorder (mitte, links, rechts):\n",
    "$$A, B, D, G, H, E, I, J, L, M, C, F, K$$\n",
    "postorder (links, rechts, mitte):\n",
    "$$ G, H, D, I, L, M, J, E, B, K, F, C, A$$\n",
    "inorder (links, mitte, rechts): \n",
    "$$ G, D, H, B, I, E, L, J, M, A, C, F, K$$"
   ]
  },
  {
   "cell_type": "markdown",
   "metadata": {},
   "source": [
    "**Aufgabe 3**: Zeigen Sie, dass die maximale Anzahl von Knoten in einem Binärbaum der Höhe $h$ gleich $2^{h+1}-1$ ist.\n",
    "\n",
    "Beweis durch Induktion.\n",
    "\n",
    "Ein Binärbaum besteht aus einer Wurzel, einem linken Teil-Binärbaum und einem rechten Teil-Binärbaum.\n",
    "\n",
    "**Induktionsanfang:** Ein Binärbaum mit nur dem Wurzelknoten hat die Höhe $h=0$ und eine Knoten Anzahl von $1$.\n",
    "$$\\begin{align*} \n",
    "KnotenAnz(h) &= 2^{h+1}-1 \\\\\n",
    "KnotenAnz(0) &= 2^{0+1}-1 \\\\\n",
    "&= 2 - 1 \\\\\n",
    "&= 1 \\qquad \\square\n",
    "\\end{align*}$$\n",
    "\n",
    "\n",
    "**Induktionsannahme:** $$KnotenAnz(h) = 2^{h+1}-1$$\n",
    "\n",
    "**Induktionsschritt:** $h \\to h+1$\n",
    "$$\\begin{align*}\n",
    "KnotenAnz(h+1) \\quad &= \\quad KnotenAnz_{\\,links} + KnotenAnz_{\\,rechts} + KnotenAnz_{\\,Wurzel}\\\\\n",
    "KnotenAnz(h) + 2^{h+1} \\quad &= \\quad (2^{h+1} - 1) + (2^{h+1} - 1) + 1\\\\\n",
    "(2^{h+1} - 1) + 2^{h+1} \\quad &= \\quad (2^{h+1} - 1) + 2^{h+1}\\\\\n",
    "2\\cdot 2^{h+1}-1 \\quad &= \\quad 2\\cdot 2^{h+1}-1 \\qquad \\square\n",
    "\\end{align*}$$\n"
   ]
  },
  {
   "cell_type": "markdown",
   "metadata": {},
   "source": [
    "**Aufgabe 5**\n",
    "\n",
    "![Screenshot](img/windirstat_2016-05-20_08-54-32.png)\n",
    "\n",
    "![Screenshot2](img/windirstat_2016-05-20_08-54-32-b.png)"
   ]
  },
  {
   "cell_type": "code",
   "execution_count": null,
   "metadata": {
    "collapsed": true
   },
   "outputs": [],
   "source": []
  }
 ],
 "metadata": {
  "kernelspec": {
   "display_name": "Python 2",
   "language": "python",
   "name": "python2"
  },
  "language_info": {
   "codemirror_mode": {
    "name": "ipython",
    "version": 2
   },
   "file_extension": ".py",
   "mimetype": "text/x-python",
   "name": "python",
   "nbconvert_exporter": "python",
   "pygments_lexer": "ipython2",
   "version": "2.7.11"
  }
 },
 "nbformat": 4,
 "nbformat_minor": 0
}
